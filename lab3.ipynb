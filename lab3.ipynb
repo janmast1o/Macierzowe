{
 "cells": [
  {
   "cell_type": "markdown",
   "metadata": {},
   "source": [
    "### Lab3 - Kompresja macierzy (Jan Masternak, Jakub Mróz):"
   ]
  },
  {
   "cell_type": "markdown",
   "metadata": {},
   "source": [
    "#### Kwestie techniczne:\n",
    "\n",
    "* Pomiary wykonywane na procesorze i5-13400f będą miały przed bezpośrednio przed rozszerzeniem końcówkę \"...i5_13400f\""
   ]
  },
  {
   "cell_type": "markdown",
   "metadata": {},
   "source": [
    "##### Importy potrzebnych paczek:\n",
    "\n",
    "Poniższe wystarczy uruchomić jeden raz."
   ]
  },
  {
   "cell_type": "code",
   "execution_count": null,
   "metadata": {},
   "outputs": [],
   "source": [
    "using Pkg\n",
    "# Pkg.add(\"CSV\")\n",
    "# Pkg.add(\"DataFrames\")\n",
    "# Pkg.add(\"Plots\")\n",
    "# Pkg.add(\"LinearAlgebra\")\n",
    "# Pkg.add(\"LaTeXStrings\")\n",
    "# Pkg.add(\"StatsPlots\")\n",
    "# Pkg.add(\"Images\")\n",
    "# Pkg.add(\"ImageIO\")\n",
    "# Pkg.add(\"ColorTypes\")\n",
    "# Pkg.add(\"ImageView\")\n",
    "# Pkg.add(\"Printf\")\n",
    "# Pkg.add(\"WebP\")\n",
    "# Pkg.add(\"Statistics\");"
   ]
  },
  {
   "cell_type": "markdown",
   "metadata": {},
   "source": [
    "Poniższe uruchamiamy każdorazowo."
   ]
  },
  {
   "cell_type": "code",
   "execution_count": null,
   "metadata": {},
   "outputs": [],
   "source": [
    "using CSV\n",
    "using DataFrames\n",
    "using Plots\n",
    "using LinearAlgebra\n",
    "using LaTeXStrings\n",
    "using StatsPlots\n",
    "using Images\n",
    "using ImageIO\n",
    "using ColorTypes\n",
    "using ImageView\n",
    "using Printf\n",
    "using Statistics;"
   ]
  },
  {
   "cell_type": "code",
   "execution_count": null,
   "metadata": {},
   "outputs": [],
   "source": [
    "cpu = \"i5_13400f\"\n",
    "error_eps = 1e-8;"
   ]
  },
  {
   "cell_type": "code",
   "execution_count": null,
   "metadata": {},
   "outputs": [],
   "source": [
    "function generate_random_matrix(m, n, a, b)\n",
    "    A = zeros(m, n)\n",
    "    for i in 1:1:m \n",
    "        for j in 1:1:n \n",
    "            A[i,j] = a + (b-a)*rand()\n",
    "        end\n",
    "    end\n",
    "    return A\n",
    "end\n",
    "\n",
    "function are_equal(A, B)\n",
    "    if !all(size(A) .== size(B))\n",
    "        return false\n",
    "    end\n",
    "\n",
    "    return all(abs.(A-B) .< error_eps)\n",
    "\n",
    "end\n",
    "\n",
    "function pad(A, target_rows, target_cols)\n",
    "    rows, cols = A.size()\n",
    "    return [A zeros(rows, target_cols-cols) ; zeros(target_rows-rows, target_cols)]\n",
    "end;"
   ]
  },
  {
   "cell_type": "markdown",
   "metadata": {},
   "source": [
    "##### Ładowanie bitmap:"
   ]
  },
  {
   "cell_type": "code",
   "execution_count": null,
   "metadata": {},
   "outputs": [],
   "source": [
    "loaded_bitmap = \"bitmaps/golden_pheasant.png\";"
   ]
  },
  {
   "cell_type": "code",
   "execution_count": null,
   "metadata": {},
   "outputs": [],
   "source": [
    "abstract1 = load(loaded_bitmap);"
   ]
  },
  {
   "cell_type": "markdown",
   "metadata": {},
   "source": [
    "##### Display bitmap:"
   ]
  },
  {
   "cell_type": "code",
   "execution_count": null,
   "metadata": {},
   "outputs": [],
   "source": [
    "abstract1"
   ]
  },
  {
   "cell_type": "markdown",
   "metadata": {},
   "source": [
    "##### Tworzenie tablic RGB dla bitmap:"
   ]
  },
  {
   "cell_type": "code",
   "execution_count": null,
   "metadata": {},
   "outputs": [],
   "source": [
    "function from_1_to_255_RGB_repr(x::Float64)\n",
    "    return x*255\n",
    "end\n",
    "\n",
    "function from_255_to_1_RGB_repr(x::Float64)\n",
    "    return x/255\n",
    "end;"
   ]
  },
  {
   "cell_type": "code",
   "execution_count": null,
   "metadata": {},
   "outputs": [],
   "source": [
    "abstract1_rows, abstract1_cols = size(abstract1)\n",
    "abstract1R, abstract1G, abstract1B = zeros(abstract1_rows, abstract1_cols), zeros(abstract1_rows, abstract1_cols), zeros(abstract1_rows, abstract1_cols)\n",
    "\n",
    "for i in 1:1:abstract1_rows\n",
    "    for j in 1:1:abstract1_cols\n",
    "        pixel_ij = abstract1[i,j]\n",
    "        abstract1R[i,j] = red(pixel_ij)\n",
    "        abstract1G[i,j] = green(pixel_ij)\n",
    "        abstract1B[i,j] = blue(pixel_ij)\n",
    "    end\n",
    "end"
   ]
  },
  {
   "cell_type": "markdown",
   "metadata": {},
   "source": [
    "##### Sprawdzenie poprawności działania tworzenia tablic RGB:"
   ]
  },
  {
   "cell_type": "code",
   "execution_count": null,
   "metadata": {},
   "outputs": [],
   "source": [
    "built_bitmap = \"bitmaps/built_golden_pheasant.png\"\n",
    "built_abstract1 = colorview(RGB, abstract1R, abstract1G, abstract1B)\n",
    "save(built_bitmap, built_abstract1)\n",
    "img_built_abstract1 = load(built_bitmap)"
   ]
  },
  {
   "cell_type": "markdown",
   "metadata": {},
   "source": [
    "### Tworzenie macierzy kompresji z użyciem truncated SVD:"
   ]
  },
  {
   "cell_type": "markdown",
   "metadata": {},
   "source": [
    "##### Konwersja macierzy R, G, B z przedziału [0, 1] na [0, 255]:"
   ]
  },
  {
   "cell_type": "code",
   "execution_count": null,
   "metadata": {},
   "outputs": [],
   "source": [
    "abstract1R_255, abstract1G_255, abstract1B_255 = deepcopy(abstract1R), deepcopy(abstract1G), deepcopy(abstract1B)\n",
    "abstract1R_255 = from_1_to_255_RGB_repr.(abstract1R_255)\n",
    "abstract1G_255 = from_1_to_255_RGB_repr.(abstract1G_255)\n",
    "abstract1B_255 = from_1_to_255_RGB_repr.(abstract1B_255);"
   ]
  },
  {
   "cell_type": "markdown",
   "metadata": {},
   "source": [
    "##### Kompresja macierzy z użyciem truncated SVD:"
   ]
  },
  {
   "cell_type": "code",
   "execution_count": null,
   "metadata": {},
   "outputs": [],
   "source": [
    "module CompressionTreeModule\n",
    "\n",
    "mutable struct CompressionTreeNode\n",
    "    rank\n",
    "    addr\n",
    "\n",
    "    left_upper_child\n",
    "    right_upper_child\n",
    "    left_lower_child\n",
    "    right_lower_child\n",
    "\n",
    "    singular_values\n",
    "    U_matrix\n",
    "    V_tr_matrix\n",
    "end\n",
    "\n",
    "end;\n",
    "\n",
    "using .CompressionTreeModule;\n",
    "\n",
    "function create_empty_compr_tree_node()\n",
    "    return CompressionTreeModule.CompressionTreeNode(nothing, nothing, \n",
    "                               nothing, nothing, nothing, nothing,\n",
    "                               nothing, nothing, nothing)\n",
    "end;"
   ]
  },
  {
   "cell_type": "code",
   "execution_count": null,
   "metadata": {},
   "outputs": [],
   "source": [
    "function compress_matrix(A, r_min, r_max, c_min, c_max, U, D, V_tr, gamma)\n",
    "    if all(abs.(A[r_min:r_max , c_min:c_max]) .< error_eps)\n",
    "        v = create_empty_compr_tree_node()\n",
    "        v.rank = 0\n",
    "        v.addr = (r_min, r_max, c_min, c_max)\n",
    "        return v\n",
    "    else\n",
    "        sigmas = diag(D)\n",
    "        v = create_empty_compr_tree_node()\n",
    "        v.rank = gamma\n",
    "        v.addr = (r_min, r_max, c_min, c_max)\n",
    "        v.singular_values = sigmas[1:gamma]\n",
    "        v.U_matrix = U[: , 1:gamma]\n",
    "        v.V_tr_matrix = D[1:gamma , 1:gamma] * V_tr[1:gamma , :]\n",
    "        return v\n",
    "    end\n",
    "end;"
   ]
  },
  {
   "cell_type": "code",
   "execution_count": null,
   "metadata": {},
   "outputs": [],
   "source": [
    "function trunc_svd(A; gamma=min(size(A,1), size(A,2)))\n",
    "    gamma = min(gamma, min(size(A,1), size(A,2)))\n",
    "    U, D, V = svd(A)\n",
    "    D = diagm(D)\n",
    "    U = U[: , 1:gamma]\n",
    "    D = D[1:gamma , 1:gamma]\n",
    "    V = V[: , 1:gamma]\n",
    "    return U, D, V'\n",
    "end;"
   ]
  },
  {
   "cell_type": "code",
   "execution_count": null,
   "metadata": {},
   "outputs": [],
   "source": [
    "function create_tree(A, r_min=1, r_max=size(A,1), c_min=1, c_max=size(A,2); gamma=1, eps=1)\n",
    "    if r_min == r_max && c_min == c_max\n",
    "        v = create_empty_compr_tree_node()\n",
    "        v.rank = 1\n",
    "        v.addr = (r_min, r_max, c_min, c_max)\n",
    "        v.U_matrix = reshape([A[r_min, c_min]], 1, 1)\n",
    "        return v\n",
    "    end   \n",
    "    \n",
    "    U, D, V_tr = trunc_svd(A[r_min:r_max , c_min:c_max], gamma=gamma+1)\n",
    "    if gamma+1 > size(D,1)\n",
    "        gamma = size(D,1)\n",
    "        if D[gamma, gamma] - eps < error_eps\n",
    "            v = compress_matrix(A, r_min, r_max, c_min, c_max, U, D, V_tr, gamma)\n",
    "            return v \n",
    "        end\n",
    "    elseif D[gamma+1, gamma+1] - eps < error_eps\n",
    "        v = compress_matrix(A, r_min, r_max, c_min, c_max, U, D, V_tr, gamma)\n",
    "        return v\n",
    "    end \n",
    "\n",
    "    r_mid = div(r_min+r_max,2)\n",
    "    c_mid = div(c_min+c_max,2)\n",
    "    right_upper_child, left_lower_child, right_lower_child = nothing, nothing, nothing\n",
    "    left_upper_child = create_tree(A, r_min, r_mid, c_min, c_mid, gamma=gamma, eps=eps)\n",
    "    if c_mid < c_max\n",
    "        right_upper_child = create_tree(A, r_min, r_mid, c_mid+1, c_max, gamma=gamma, eps=eps)\n",
    "    end\n",
    "    if r_mid < r_max\n",
    "        left_lower_child = create_tree(A, r_mid+1, r_max, c_min, c_mid, gamma=gamma, eps=eps)\n",
    "        if c_mid < c_max\n",
    "            right_lower_child = create_tree(A, r_mid+1, r_max, c_mid+1, c_max, gamma=gamma, eps=eps)\n",
    "        end            \n",
    "    end\n",
    "\n",
    "    v = create_empty_compr_tree_node()\n",
    "    v.addr = (r_min, r_max, c_min, c_max)\n",
    "    v.left_upper_child = left_upper_child\n",
    "    v.right_upper_child = right_upper_child\n",
    "    v.left_lower_child = left_lower_child\n",
    "    v.right_lower_child = right_lower_child\n",
    "    return v\n",
    "\n",
    "end;"
   ]
  },
  {
   "cell_type": "markdown",
   "metadata": {},
   "source": [
    "##### Testowanie kompresji macierzy z TSVD:\n",
    "\n",
    "Poniżej przetestowano poprawne działanie zaimplementowanego algorytmu dla losowych danych - ta sekcja jeszcze nie ma nic stricte wspólnego z kompresją bitampy."
   ]
  },
  {
   "cell_type": "code",
   "execution_count": null,
   "metadata": {},
   "outputs": [],
   "source": [
    "function build_matrix_based_on_tree(target_matrix, node)\n",
    "    r_min, r_max, c_min, c_max = node.addr\n",
    "    \n",
    "    if !isnothing(node.U_matrix)\n",
    "        if !isnothing(node.V_tr_matrix)\n",
    "            target_matrix[r_min:r_max , c_min:c_max] += node.U_matrix*node.V_tr_matrix\n",
    "        else\n",
    "            target_matrix[r_min:r_max , c_min:c_max] += node.U_matrix;\n",
    "        end\n",
    "    end\n",
    "\n",
    "    if !isnothing(node.left_upper_child)\n",
    "        build_matrix_based_on_tree(target_matrix, node.left_upper_child)\n",
    "    end\n",
    "\n",
    "    if !isnothing(node.right_upper_child)\n",
    "        build_matrix_based_on_tree(target_matrix, node.right_upper_child)\n",
    "    end\n",
    "    \n",
    "    if !isnothing(node.left_lower_child)\n",
    "        build_matrix_based_on_tree(target_matrix, node.left_lower_child)\n",
    "    end\n",
    "    \n",
    "    if !isnothing(node.right_lower_child)\n",
    "        build_matrix_based_on_tree(target_matrix, node.right_lower_child)\n",
    "    end\n",
    "    \n",
    "end;"
   ]
  },
  {
   "cell_type": "code",
   "execution_count": null,
   "metadata": {},
   "outputs": [],
   "source": [
    "function test_matrix_compression(low_m, high_m, low_n, high_n, a, b, tests, gamma, eps)\n",
    "    correct_outputs = 0\n",
    "    incorrect_ouputs = 0\n",
    "    for _ in 1:1:tests \n",
    "        A = generate_random_matrix(rand(low_m:1:high_m), rand(low_n:1:high_n), a, b)\n",
    "        tree_root = create_tree(A, gamma=gamma, eps=eps)\n",
    "        built_A = zeros(size(A,1), size(A,2))\n",
    "        build_matrix_based_on_tree(built_A, tree_root)\n",
    "        if are_equal(A, built_A)\n",
    "            correct_outputs += 1\n",
    "        else \n",
    "            incorrect_ouputs += 1    \n",
    "        end\n",
    "    end\n",
    "\n",
    "    return correct_outputs, incorrect_ouputs\n",
    "end;"
   ]
  },
  {
   "cell_type": "code",
   "execution_count": null,
   "metadata": {},
   "outputs": [],
   "source": [
    "low_m_for_test, high_m_for_test, low_n_for_test, high_n_for_test = 1, 10, 1, 10\n",
    "a_for_test, b_for_test = 0, 50\n",
    "correct, incorrect = test_matrix_compression(low_m_for_test, high_m_for_test, low_n_for_test, high_n_for_test, a_for_test, b_for_test, 15, 1, 0.1)\n",
    "println(correct, \" \", incorrect);"
   ]
  },
  {
   "cell_type": "markdown",
   "metadata": {},
   "source": [
    "I dla nieco większego $\\epsilon$:"
   ]
  },
  {
   "cell_type": "code",
   "execution_count": null,
   "metadata": {},
   "outputs": [],
   "source": [
    "low_m_for_test, high_m_for_test, low_n_for_test, high_n_for_test = 1, 10, 1, 10\n",
    "a_for_test, b_for_test = 0, 50\n",
    "correct, incorrect = test_matrix_compression(low_m_for_test, high_m_for_test, low_n_for_test, high_n_for_test, a_for_test, b_for_test, 15, 1, 6)\n",
    "println(correct, \" \", incorrect);"
   ]
  },
  {
   "cell_type": "markdown",
   "metadata": {},
   "source": [
    "### Rezultaty kompresji dla badanej bitmapy:\n",
    "\n",
    "W tej sekcji zbadano jak dobre bitmapy można uzyskać po skompresowaniu, a następnie zbudowanu ich na nowo dla różnych argumentów algorytmu kompresji."
   ]
  },
  {
   "cell_type": "code",
   "execution_count": null,
   "metadata": {},
   "outputs": [],
   "source": [
    "_, eigenvaluesR, _ = svd(abstract1R_255)\n",
    "_, eigenvaluesG, _ = svd(abstract1G_255)\n",
    "_, eigenvaluesB, _ = svd(abstract1B_255);"
   ]
  },
  {
   "cell_type": "markdown",
   "metadata": {},
   "source": [
    "Narysujmy wartości własne tych macierzy:"
   ]
  },
  {
   "cell_type": "code",
   "execution_count": null,
   "metadata": {},
   "outputs": [],
   "source": [
    "scatter(eigenvaluesR, [1 for i in 1:1:size(eigenvaluesR,1)], label=\"Eigenvalues dla R\", color=:red)\n",
    "scatter!(eigenvaluesG, [2 for i in 1:1:size(eigenvaluesG,1)], label=\"Eigenvalues dla G\", color=:green)\n",
    "scatter!(eigenvaluesB, [3 for i in 1:1:size(eigenvaluesB,1)], label=\"Eigenvalues dla B\", color=:blue)"
   ]
  },
  {
   "cell_type": "markdown",
   "metadata": {},
   "source": [
    "Eigenvalues nie licząc bardzo dużej $\\sigma_{1}$:"
   ]
  },
  {
   "cell_type": "code",
   "execution_count": null,
   "metadata": {},
   "outputs": [],
   "source": [
    "scatter(eigenvaluesR[2:end], [1 for i in 1:1:size(eigenvaluesR,1)-1], label=\"Eigenvalues dla R\", color=:red)\n",
    "scatter!(eigenvaluesG[2:end], [2 for i in 1:1:size(eigenvaluesG,1)-1], label=\"Eigenvalues dla G\", color=:green)\n",
    "scatter!(eigenvaluesB[2:end], [3 for i in 1:1:size(eigenvaluesB,1)-1], label=\"Eigenvalues dla B\", color=:blue)"
   ]
  },
  {
   "cell_type": "markdown",
   "metadata": {},
   "source": [
    "Jeszcze dokładniej:"
   ]
  },
  {
   "cell_type": "code",
   "execution_count": null,
   "metadata": {},
   "outputs": [],
   "source": [
    "scatter(eigenvaluesR[80:end], [1 for i in 1:1:size(eigenvaluesR,1)-79], label=\"Eigenvalues dla R\", color=:red)\n",
    "scatter!(eigenvaluesG[80:end], [2 for i in 1:1:size(eigenvaluesG,1)-79], label=\"Eigenvalues dla G\", color=:green)\n",
    "scatter!(eigenvaluesB[80:end], [3 for i in 1:1:size(eigenvaluesB,1)-79], label=\"Eigenvalues dla B\", color=:blue)"
   ]
  },
  {
   "cell_type": "code",
   "execution_count": null,
   "metadata": {},
   "outputs": [],
   "source": [
    "slight_increase = 1e-2\n",
    "\n",
    "sigmaR_1 = eigenvaluesR[end]+slight_increase\n",
    "sigmaR_n = eigenvaluesR[2]+slight_increase\n",
    "sigmaR_ndiv2 = eigenvaluesR[div(size(eigenvaluesR,1),2)]+slight_increase\n",
    "\n",
    "sigmaG_1 = eigenvaluesG[end]+slight_increase\n",
    "sigmaG_n = eigenvaluesG[2]+slight_increase\n",
    "sigmaG_ndiv2 = eigenvaluesG[div(size(eigenvaluesG,1),2)]+slight_increase\n",
    "\n",
    "sigmaB_1 = eigenvaluesB[end]+slight_increase\n",
    "sigmaB_n = eigenvaluesB[2]+slight_increase\n",
    "sigmaB_ndiv2 = eigenvaluesB[div(size(eigenvaluesB,1),2)]+slight_increase\n",
    "\n",
    "execution_argsR = [\n",
    "    Dict(\"gamma\" => 1, \"eps\" => sigmaR_1),\n",
    "    Dict(\"gamma\" => 1, \"eps\" => sigmaR_n),\n",
    "    Dict(\"gamma\" => 1, \"eps\" => sigmaR_ndiv2),\n",
    "    Dict(\"gamma\" => 4, \"eps\" => sigmaR_1),\n",
    "    Dict(\"gamma\" => 4, \"eps\" => sigmaR_n),\n",
    "    Dict(\"gamma\" => 4, \"eps\" => sigmaR_ndiv2),\n",
    "    Dict(\"gamma\" => size(eigenvaluesR,1)-1, \"eps\" => sigmaR_1)\n",
    "]\n",
    "\n",
    "execution_argsG = [\n",
    "    Dict(\"gamma\" => 1, \"eps\" => sigmaG_1),\n",
    "    Dict(\"gamma\" => 1, \"eps\" => sigmaG_n),\n",
    "    Dict(\"gamma\" => 1, \"eps\" => sigmaG_ndiv2),\n",
    "    Dict(\"gamma\" => 4, \"eps\" => sigmaG_1),\n",
    "    Dict(\"gamma\" => 4, \"eps\" => sigmaG_n),\n",
    "    Dict(\"gamma\" => 4, \"eps\" => sigmaG_ndiv2),\n",
    "    Dict(\"gamma\" => size(eigenvaluesG,1)-1, \"eps\" => sigmaG_1)\n",
    "]\n",
    "\n",
    "execution_argsB = [\n",
    "    Dict(\"gamma\" => 1, \"eps\" => sigmaB_1),\n",
    "    Dict(\"gamma\" => 1, \"eps\" => sigmaB_n),\n",
    "    Dict(\"gamma\" => 1, \"eps\" => sigmaB_ndiv2),\n",
    "    Dict(\"gamma\" => 4, \"eps\" => sigmaB_1),\n",
    "    Dict(\"gamma\" => 4, \"eps\" => sigmaB_n),\n",
    "    Dict(\"gamma\" => 4, \"eps\" => sigmaB_ndiv2),\n",
    "    Dict(\"gamma\" => size(eigenvaluesB,1)-1, \"eps\" => sigmaB_1)\n",
    "];"
   ]
  },
  {
   "cell_type": "code",
   "execution_count": null,
   "metadata": {},
   "outputs": [],
   "source": [
    "built_trees = Vector{Tuple{Any, Any, Any}}(undef, size(execution_argsR,1))\n",
    "\n",
    "for i in 1:1:size(execution_argsR,1)\n",
    "    red_gamma, red_eps = execution_argsR[i][\"gamma\"], execution_argsR[i][\"eps\"]\n",
    "    green_gamma, green_eps = execution_argsG[i][\"gamma\"], execution_argsG[i][\"eps\"]\n",
    "    blue_gamma, blue_eps = execution_argsB[i][\"gamma\"], execution_argsB[i][\"eps\"]\n",
    "\n",
    "    red_root = create_tree(abstract1R_255, gamma=red_gamma, eps=red_eps)\n",
    "    green_root = create_tree(abstract1G_255, gamma=green_gamma, eps=green_eps)\n",
    "    blue_root = create_tree(abstract1B_255, gamma=blue_gamma, eps=blue_eps)\n",
    "\n",
    "    built_trees[i] = (red_root, green_root, blue_root)\n",
    "end;"
   ]
  },
  {
   "cell_type": "markdown",
   "metadata": {},
   "source": [
    "Poniżej zaimplementowano funkcje pozwalają wygodnie porównać bitmapy przed i to kompresji:"
   ]
  },
  {
   "cell_type": "code",
   "execution_count": null,
   "metadata": {},
   "outputs": [],
   "source": [
    "function create_image_comparing_bitmaps(true_bitmap, built_bitmap, filename; whitespace_between=25) \n",
    "    if !all(size(true_bitmap) .== size(built_bitmap))\n",
    "        println(\"Sizes are incompatible\")\n",
    "    else\n",
    "        height = size(true_bitmap, 1)\n",
    "        comparison_matrix = [true_bitmap ones(height, whitespace_between) built_bitmap]\n",
    "        save(filename, comparison_matrix)\n",
    "    end\n",
    "end;"
   ]
  },
  {
   "cell_type": "code",
   "execution_count": null,
   "metadata": {},
   "outputs": [],
   "source": [
    "function create_image_comparing_RGB_bitmaps(true_R, true_G, true_B, built_R, built_G, built_B, filename; whitespace_between=25)\n",
    "    if !all(size(true_R) .== size(built_R))\n",
    "        println(\"Sizes are incompatible\")\n",
    "    elseif !all(size(true_G) .== size(built_G))\n",
    "        println(\"Sizes are incompatible\")    \n",
    "    elseif !all(size(true_B) .== size(built_B))\n",
    "        println(\"Sizes are incompatible\")    \n",
    "    else\n",
    "        height = size(true_R, 1)\n",
    "        compared_R = [true_R ones(height, whitespace_between) built_R]\n",
    "        compared_G = [true_G ones(height, whitespace_between) built_G]\n",
    "        compared_B = [true_B ones(height, whitespace_between) built_B]\n",
    "        compared_RGB = colorview(RGB, compared_R, compared_G, compared_B)\n",
    "        save(filename, compared_RGB)\n",
    "    end\n",
    "end;"
   ]
  },
  {
   "cell_type": "markdown",
   "metadata": {},
   "source": [
    "##### Porównania dla $\\gamma = 1$, $\\epsilon = \\sigma_{1}$:"
   ]
  },
  {
   "cell_type": "code",
   "execution_count": null,
   "metadata": {},
   "outputs": [],
   "source": [
    "w, h = size(abstract1R_255);"
   ]
  },
  {
   "cell_type": "code",
   "execution_count": null,
   "metadata": {},
   "outputs": [],
   "source": [
    "index = 1\n",
    "built_R = zeros(w,h)\n",
    "built_G = zeros(w,h)\n",
    "built_B = zeros(w,h)\n",
    "red_root, green_root, blue_root = built_trees[index]\n",
    "\n",
    "build_matrix_based_on_tree(built_R, red_root)\n",
    "build_matrix_based_on_tree(built_G, green_root)\n",
    "build_matrix_based_on_tree(built_B, blue_root)"
   ]
  },
  {
   "cell_type": "code",
   "execution_count": null,
   "metadata": {},
   "outputs": [],
   "source": [
    "built_R = built_R./255\n",
    "built_G = built_G./255\n",
    "built_B = built_B./255;\n",
    "\n",
    "built_R = min.(built_R, 1)\n",
    "built_R = max.(built_R, 0)\n",
    "\n",
    "built_G = min.(built_G, 1)\n",
    "built_G = max.(built_G, 0)\n",
    "\n",
    "built_B = min.(built_B, 1)\n",
    "built_B = max.(built_B, 0);"
   ]
  },
  {
   "cell_type": "markdown",
   "metadata": {},
   "source": [
    "Porównanie czerwonego (R):"
   ]
  },
  {
   "cell_type": "code",
   "execution_count": null,
   "metadata": {},
   "outputs": [],
   "source": [
    "red_1_filename = \"bitmaps/red_1_comparison.png\"\n",
    "create_image_comparing_bitmaps(abstract1R, built_R, red_1_filename, whitespace_between=40)\n",
    "load(red_1_filename)"
   ]
  },
  {
   "cell_type": "markdown",
   "metadata": {},
   "source": [
    "Porównanie zielonego (G):"
   ]
  },
  {
   "cell_type": "code",
   "execution_count": null,
   "metadata": {},
   "outputs": [],
   "source": [
    "green_1_filename = \"bitmaps/green_1_comparison.png\"\n",
    "create_image_comparing_bitmaps(abstract1G, built_G, green_1_filename, whitespace_between=40)\n",
    "load(green_1_filename)"
   ]
  },
  {
   "cell_type": "markdown",
   "metadata": {},
   "source": [
    "Porównanie niebieskiego (B):"
   ]
  },
  {
   "cell_type": "code",
   "execution_count": null,
   "metadata": {},
   "outputs": [],
   "source": [
    "blue_1_filename = \"bitmaps/blue_1_comparison.png\"\n",
    "create_image_comparing_bitmaps(abstract1B, built_B, blue_1_filename, whitespace_between=40)\n",
    "load(blue_1_filename)"
   ]
  },
  {
   "cell_type": "markdown",
   "metadata": {},
   "source": [
    "Porównanie całości:"
   ]
  },
  {
   "cell_type": "code",
   "execution_count": null,
   "metadata": {},
   "outputs": [],
   "source": [
    "overall_1_filename = \"bitmaps/overall_1_comparison.png\"\n",
    "create_image_comparing_RGB_bitmaps(abstract1R, abstract1G, abstract1B, built_R, built_G, built_B, overall_1_filename, whitespace_between=40)\n",
    "load(overall_1_filename)"
   ]
  },
  {
   "cell_type": "markdown",
   "metadata": {},
   "source": [
    "##### Porównanie dla $\\gamma = 1$ i $\\epsilon = \\sigma_{n-1}$:"
   ]
  },
  {
   "cell_type": "code",
   "execution_count": null,
   "metadata": {},
   "outputs": [],
   "source": [
    "index = 2\n",
    "built_R = zeros(w,h)\n",
    "built_G = zeros(w,h)\n",
    "built_B = zeros(w,h)\n",
    "red_root, green_root, blue_root = built_trees[index]\n",
    "\n",
    "build_matrix_based_on_tree(built_R, red_root)\n",
    "build_matrix_based_on_tree(built_G, green_root)\n",
    "build_matrix_based_on_tree(built_B, blue_root)"
   ]
  },
  {
   "cell_type": "code",
   "execution_count": null,
   "metadata": {},
   "outputs": [],
   "source": [
    "built_R = built_R./255\n",
    "built_G = built_G./255\n",
    "built_B = built_B./255;\n",
    "\n",
    "built_R = min.(built_R, 1)\n",
    "built_R = max.(built_R, 0)\n",
    "\n",
    "built_G = min.(built_G, 1)\n",
    "built_G = max.(built_G, 0)\n",
    "\n",
    "built_B = min.(built_B, 1)\n",
    "built_B = max.(built_B, 0);"
   ]
  },
  {
   "cell_type": "markdown",
   "metadata": {},
   "source": [
    "Porównanie czerwonego (R):"
   ]
  },
  {
   "cell_type": "code",
   "execution_count": null,
   "metadata": {},
   "outputs": [],
   "source": [
    "red_filename = @sprintf(\"bitmaps/red_%d_comparison.png\", index)\n",
    "create_image_comparing_bitmaps(abstract1R, built_R, red_filename, whitespace_between=40)\n",
    "load(red_filename)"
   ]
  },
  {
   "cell_type": "markdown",
   "metadata": {},
   "source": [
    "Porównanie zielonego (G):"
   ]
  },
  {
   "cell_type": "code",
   "execution_count": null,
   "metadata": {},
   "outputs": [],
   "source": [
    "green_filename = @sprintf(\"bitmaps/green_%d_comparison.png\", index)\n",
    "create_image_comparing_bitmaps(abstract1G, built_G, green_filename, whitespace_between=40)\n",
    "load(green_filename)"
   ]
  },
  {
   "cell_type": "markdown",
   "metadata": {},
   "source": [
    "Porówananie niebieskiego (B):"
   ]
  },
  {
   "cell_type": "code",
   "execution_count": null,
   "metadata": {},
   "outputs": [],
   "source": [
    "blue_filename = @sprintf(\"bitmaps/blue_%d_comparison.png\", index)\n",
    "create_image_comparing_bitmaps(abstract1B, built_B, blue_filename, whitespace_between=40)\n",
    "load(blue_filename)"
   ]
  },
  {
   "cell_type": "markdown",
   "metadata": {},
   "source": [
    "Porównanie całości:"
   ]
  },
  {
   "cell_type": "code",
   "execution_count": null,
   "metadata": {},
   "outputs": [],
   "source": [
    "overall_filename = @sprintf(\"bitmaps/overall_%d_comparison.png\", index)\n",
    "create_image_comparing_RGB_bitmaps(abstract1R, abstract1G, abstract1B, built_R, built_G, built_B, overall_filename, whitespace_between=40)\n",
    "load(overall_filename)"
   ]
  },
  {
   "cell_type": "markdown",
   "metadata": {},
   "source": [
    "##### Porównanie dla $\\gamma = 1$ i $\\epsilon = \\sigma_{\\lfloor \\frac{n}{2} \\rfloor}$:"
   ]
  },
  {
   "cell_type": "code",
   "execution_count": null,
   "metadata": {},
   "outputs": [],
   "source": [
    "index = 3\n",
    "built_R = zeros(w,h)\n",
    "built_G = zeros(w,h)\n",
    "built_B = zeros(w,h)\n",
    "red_root, green_root, blue_root = built_trees[index]\n",
    "\n",
    "build_matrix_based_on_tree(built_R, red_root)\n",
    "build_matrix_based_on_tree(built_G, green_root)\n",
    "build_matrix_based_on_tree(built_B, blue_root)"
   ]
  },
  {
   "cell_type": "code",
   "execution_count": null,
   "metadata": {},
   "outputs": [],
   "source": [
    "built_R = built_R./255\n",
    "built_G = built_G./255\n",
    "built_B = built_B./255;\n",
    "\n",
    "built_R = min.(built_R, 1)\n",
    "built_R = max.(built_R, 0)\n",
    "\n",
    "built_G = min.(built_G, 1)\n",
    "built_G = max.(built_G, 0)\n",
    "\n",
    "built_B = min.(built_B, 1)\n",
    "built_B = max.(built_B, 0);"
   ]
  },
  {
   "cell_type": "markdown",
   "metadata": {},
   "source": [
    "Porównanie czerwonego (R):"
   ]
  },
  {
   "cell_type": "code",
   "execution_count": null,
   "metadata": {},
   "outputs": [],
   "source": [
    "red_filename = @sprintf(\"bitmaps/red_%d_comparison.png\", index)\n",
    "create_image_comparing_bitmaps(abstract1R, built_R, red_filename, whitespace_between=40)\n",
    "load(red_filename)"
   ]
  },
  {
   "cell_type": "markdown",
   "metadata": {},
   "source": [
    "Porównanie zielonego (G):"
   ]
  },
  {
   "cell_type": "code",
   "execution_count": null,
   "metadata": {},
   "outputs": [],
   "source": [
    "green_filename = @sprintf(\"bitmaps/green_%d_comparison.png\", index)\n",
    "create_image_comparing_bitmaps(abstract1G, built_G, green_filename, whitespace_between=40)\n",
    "load(green_filename)"
   ]
  },
  {
   "cell_type": "markdown",
   "metadata": {},
   "source": [
    "Porówananie niebieskiego (B):"
   ]
  },
  {
   "cell_type": "code",
   "execution_count": null,
   "metadata": {},
   "outputs": [],
   "source": [
    "blue_filename = @sprintf(\"bitmaps/blue_%d_comparison.png\", index)\n",
    "create_image_comparing_bitmaps(abstract1B, built_B, blue_filename, whitespace_between=40)\n",
    "load(blue_filename)"
   ]
  },
  {
   "cell_type": "markdown",
   "metadata": {},
   "source": [
    "Porównanie całości:"
   ]
  },
  {
   "cell_type": "code",
   "execution_count": null,
   "metadata": {},
   "outputs": [],
   "source": [
    "overall_filename = @sprintf(\"bitmaps/overall_%d_comparison.png\", index)\n",
    "create_image_comparing_RGB_bitmaps(abstract1R, abstract1G, abstract1B, built_R, built_G, built_B, overall_filename, whitespace_between=40)\n",
    "load(overall_filename)"
   ]
  },
  {
   "cell_type": "markdown",
   "metadata": {},
   "source": [
    "##### Porównanie dla $\\gamma = 4$ i $\\epsilon = \\sigma_{1}$:"
   ]
  },
  {
   "cell_type": "code",
   "execution_count": null,
   "metadata": {},
   "outputs": [],
   "source": [
    "index = 4\n",
    "built_R = zeros(w,h)\n",
    "built_G = zeros(w,h)\n",
    "built_B = zeros(w,h)\n",
    "red_root, green_root, blue_root = built_trees[index]\n",
    "\n",
    "build_matrix_based_on_tree(built_R, red_root)\n",
    "build_matrix_based_on_tree(built_G, green_root)\n",
    "build_matrix_based_on_tree(built_B, blue_root)"
   ]
  },
  {
   "cell_type": "code",
   "execution_count": null,
   "metadata": {},
   "outputs": [],
   "source": [
    "built_R = built_R./255\n",
    "built_G = built_G./255\n",
    "built_B = built_B./255;\n",
    "\n",
    "built_R = min.(built_R, 1)\n",
    "built_R = max.(built_R, 0)\n",
    "\n",
    "built_G = min.(built_G, 1)\n",
    "built_G = max.(built_G, 0)\n",
    "\n",
    "built_B = min.(built_B, 1)\n",
    "built_B = max.(built_B, 0);"
   ]
  },
  {
   "cell_type": "markdown",
   "metadata": {},
   "source": [
    "Porównanie czerwonego (R):"
   ]
  },
  {
   "cell_type": "code",
   "execution_count": null,
   "metadata": {},
   "outputs": [],
   "source": [
    "red_filename = @sprintf(\"bitmaps/red_%d_comparison.png\", index)\n",
    "create_image_comparing_bitmaps(abstract1R, built_R, red_filename, whitespace_between=40)\n",
    "load(red_filename)"
   ]
  },
  {
   "cell_type": "markdown",
   "metadata": {},
   "source": [
    "Porównanie zielonego (G):"
   ]
  },
  {
   "cell_type": "code",
   "execution_count": null,
   "metadata": {},
   "outputs": [],
   "source": [
    "green_filename = @sprintf(\"bitmaps/green_%d_comparison.png\", index)\n",
    "create_image_comparing_bitmaps(abstract1G, built_G, green_filename, whitespace_between=40)\n",
    "load(green_filename)"
   ]
  },
  {
   "cell_type": "markdown",
   "metadata": {},
   "source": [
    "Porówananie niebieskiego (B):"
   ]
  },
  {
   "cell_type": "code",
   "execution_count": null,
   "metadata": {},
   "outputs": [],
   "source": [
    "blue_filename = @sprintf(\"bitmaps/blue_%d_comparison.png\", index)\n",
    "create_image_comparing_bitmaps(abstract1B, built_B, blue_filename, whitespace_between=40)\n",
    "load(blue_filename)"
   ]
  },
  {
   "cell_type": "markdown",
   "metadata": {},
   "source": [
    "Porównanie całości:"
   ]
  },
  {
   "cell_type": "code",
   "execution_count": null,
   "metadata": {},
   "outputs": [],
   "source": [
    "overall_filename = @sprintf(\"bitmaps/overall_%d_comparison.png\", index)\n",
    "create_image_comparing_RGB_bitmaps(abstract1R, abstract1G, abstract1B, built_R, built_G, built_B, overall_filename, whitespace_between=40)\n",
    "load(overall_filename)"
   ]
  },
  {
   "cell_type": "markdown",
   "metadata": {},
   "source": [
    "##### Porównanie dla $\\gamma = 4$ i $\\epsilon = \\sigma_{n}$:"
   ]
  },
  {
   "cell_type": "code",
   "execution_count": null,
   "metadata": {},
   "outputs": [],
   "source": [
    "index = 5\n",
    "built_R = zeros(w,h)\n",
    "built_G = zeros(w,h)\n",
    "built_B = zeros(w,h)\n",
    "red_root, green_root, blue_root = built_trees[index]\n",
    "\n",
    "build_matrix_based_on_tree(built_R, red_root)\n",
    "build_matrix_based_on_tree(built_G, green_root)\n",
    "build_matrix_based_on_tree(built_B, blue_root)"
   ]
  },
  {
   "cell_type": "code",
   "execution_count": null,
   "metadata": {},
   "outputs": [],
   "source": [
    "built_R = built_R./255\n",
    "built_G = built_G./255\n",
    "built_B = built_B./255;\n",
    "\n",
    "built_R = min.(built_R, 1)\n",
    "built_R = max.(built_R, 0)\n",
    "\n",
    "built_G = min.(built_G, 1)\n",
    "built_G = max.(built_G, 0)\n",
    "\n",
    "built_B = min.(built_B, 1)\n",
    "built_B = max.(built_B, 0);"
   ]
  },
  {
   "cell_type": "markdown",
   "metadata": {},
   "source": [
    "Porównanie czerwonego (R):"
   ]
  },
  {
   "cell_type": "code",
   "execution_count": null,
   "metadata": {},
   "outputs": [],
   "source": [
    "red_filename = @sprintf(\"bitmaps/red_%d_comparison.png\", index)\n",
    "create_image_comparing_bitmaps(abstract1R, built_R, red_filename, whitespace_between=40)\n",
    "load(red_filename)"
   ]
  },
  {
   "cell_type": "markdown",
   "metadata": {},
   "source": [
    "Porównanie zielonego (G):"
   ]
  },
  {
   "cell_type": "code",
   "execution_count": null,
   "metadata": {},
   "outputs": [],
   "source": [
    "green_filename = @sprintf(\"bitmaps/green_%d_comparison.png\", index)\n",
    "create_image_comparing_bitmaps(abstract1G, built_G, green_filename, whitespace_between=40)\n",
    "load(green_filename)"
   ]
  },
  {
   "cell_type": "markdown",
   "metadata": {},
   "source": [
    "Porówananie niebieskiego (B):"
   ]
  },
  {
   "cell_type": "code",
   "execution_count": null,
   "metadata": {},
   "outputs": [],
   "source": [
    "blue_filename = @sprintf(\"bitmaps/blue_%d_comparison.png\", index)\n",
    "create_image_comparing_bitmaps(abstract1B, built_B, blue_filename, whitespace_between=40)\n",
    "load(blue_filename)"
   ]
  },
  {
   "cell_type": "markdown",
   "metadata": {},
   "source": [
    "Porównanie całości:"
   ]
  },
  {
   "cell_type": "code",
   "execution_count": null,
   "metadata": {},
   "outputs": [],
   "source": [
    "overall_filename = @sprintf(\"bitmaps/overall_%d_comparison.png\", index)\n",
    "create_image_comparing_RGB_bitmaps(abstract1R, abstract1G, abstract1B, built_R, built_G, built_B, overall_filename, whitespace_between=40)\n",
    "load(overall_filename)"
   ]
  },
  {
   "cell_type": "markdown",
   "metadata": {},
   "source": [
    "##### Porównanie dla $\\gamma = 4$ i $\\epsilon = \\sigma_{\\lfloor \\frac{n}{2} \\rfloor }$:"
   ]
  },
  {
   "cell_type": "code",
   "execution_count": null,
   "metadata": {},
   "outputs": [],
   "source": [
    "index = 6\n",
    "built_R = zeros(w,h)\n",
    "built_G = zeros(w,h)\n",
    "built_B = zeros(w,h)\n",
    "red_root, green_root, blue_root = built_trees[index]\n",
    "\n",
    "build_matrix_based_on_tree(built_R, red_root)\n",
    "build_matrix_based_on_tree(built_G, green_root)\n",
    "build_matrix_based_on_tree(built_B, blue_root)"
   ]
  },
  {
   "cell_type": "code",
   "execution_count": null,
   "metadata": {},
   "outputs": [],
   "source": [
    "built_R = built_R./255\n",
    "built_G = built_G./255\n",
    "built_B = built_B./255;\n",
    "\n",
    "built_R = min.(built_R, 1)\n",
    "built_R = max.(built_R, 0)\n",
    "\n",
    "built_G = min.(built_G, 1)\n",
    "built_G = max.(built_G, 0)\n",
    "\n",
    "built_B = min.(built_B, 1)\n",
    "built_B = max.(built_B, 0);"
   ]
  },
  {
   "cell_type": "markdown",
   "metadata": {},
   "source": [
    "Porównanie czerwonego (R):"
   ]
  },
  {
   "cell_type": "code",
   "execution_count": null,
   "metadata": {},
   "outputs": [],
   "source": [
    "red_filename = @sprintf(\"bitmaps/red_%d_comparison.png\", index)\n",
    "create_image_comparing_bitmaps(abstract1R, built_R, red_filename, whitespace_between=40)\n",
    "load(red_filename)"
   ]
  },
  {
   "cell_type": "markdown",
   "metadata": {},
   "source": [
    "Porównanie zielonego (G):"
   ]
  },
  {
   "cell_type": "code",
   "execution_count": null,
   "metadata": {},
   "outputs": [],
   "source": [
    "green_filename = @sprintf(\"bitmaps/green_%d_comparison.png\", index)\n",
    "create_image_comparing_bitmaps(abstract1G, built_G, green_filename, whitespace_between=40)\n",
    "load(green_filename)"
   ]
  },
  {
   "cell_type": "markdown",
   "metadata": {},
   "source": [
    "Porówananie niebieskiego (B):"
   ]
  },
  {
   "cell_type": "code",
   "execution_count": null,
   "metadata": {},
   "outputs": [],
   "source": [
    "blue_filename = @sprintf(\"bitmaps/blue_%d_comparison.png\", index)\n",
    "create_image_comparing_bitmaps(abstract1B, built_B, blue_filename, whitespace_between=40)\n",
    "load(blue_filename)"
   ]
  },
  {
   "cell_type": "markdown",
   "metadata": {},
   "source": [
    "Porównanie całości:"
   ]
  },
  {
   "cell_type": "code",
   "execution_count": null,
   "metadata": {},
   "outputs": [],
   "source": [
    "overall_filename = @sprintf(\"bitmaps/overall_%d_comparison.png\", index)\n",
    "create_image_comparing_RGB_bitmaps(abstract1R, abstract1G, abstract1B, built_R, built_G, built_B, overall_filename, whitespace_between=40)\n",
    "load(overall_filename)"
   ]
  },
  {
   "cell_type": "markdown",
   "metadata": {},
   "source": [
    "##### Porównanie dla $\\gamma = n-1$ i $\\epsilon = \\sigma_{1}$:"
   ]
  },
  {
   "cell_type": "code",
   "execution_count": null,
   "metadata": {},
   "outputs": [],
   "source": [
    "index = 7\n",
    "built_R = zeros(w,h)\n",
    "built_G = zeros(w,h)\n",
    "built_B = zeros(w,h)\n",
    "red_root, green_root, blue_root = built_trees[index]\n",
    "\n",
    "build_matrix_based_on_tree(built_R, red_root)\n",
    "build_matrix_based_on_tree(built_G, green_root)\n",
    "build_matrix_based_on_tree(built_B, blue_root)"
   ]
  },
  {
   "cell_type": "code",
   "execution_count": null,
   "metadata": {},
   "outputs": [],
   "source": [
    "built_R = built_R./255\n",
    "built_G = built_G./255\n",
    "built_B = built_B./255;\n",
    "\n",
    "built_R = min.(built_R, 1)\n",
    "built_R = max.(built_R, 0)\n",
    "\n",
    "built_G = min.(built_G, 1)\n",
    "built_G = max.(built_G, 0)\n",
    "\n",
    "built_B = min.(built_B, 1)\n",
    "built_B = max.(built_B, 0);"
   ]
  },
  {
   "cell_type": "markdown",
   "metadata": {},
   "source": [
    "Porównanie czerwonego (R):"
   ]
  },
  {
   "cell_type": "code",
   "execution_count": null,
   "metadata": {},
   "outputs": [],
   "source": [
    "red_filename = @sprintf(\"bitmaps/red_%d_comparison.png\", index)\n",
    "create_image_comparing_bitmaps(abstract1R, built_R, red_filename, whitespace_between=40)\n",
    "load(red_filename)"
   ]
  },
  {
   "cell_type": "markdown",
   "metadata": {},
   "source": [
    "Porównanie zielonego (G):"
   ]
  },
  {
   "cell_type": "code",
   "execution_count": null,
   "metadata": {},
   "outputs": [],
   "source": [
    "green_filename = @sprintf(\"bitmaps/green_%d_comparison.png\", index)\n",
    "create_image_comparing_bitmaps(abstract1G, built_G, green_filename, whitespace_between=40)\n",
    "load(green_filename)"
   ]
  },
  {
   "cell_type": "markdown",
   "metadata": {},
   "source": [
    "Porówananie niebieskiego (B):"
   ]
  },
  {
   "cell_type": "code",
   "execution_count": null,
   "metadata": {},
   "outputs": [],
   "source": [
    "blue_filename = @sprintf(\"bitmaps/blue_%d_comparison.png\", index)\n",
    "create_image_comparing_bitmaps(abstract1B, built_B, blue_filename, whitespace_between=40)\n",
    "load(blue_filename)"
   ]
  },
  {
   "cell_type": "markdown",
   "metadata": {},
   "source": [
    "Porównanie całości:"
   ]
  },
  {
   "cell_type": "code",
   "execution_count": null,
   "metadata": {},
   "outputs": [],
   "source": [
    "overall_filename = @sprintf(\"bitmaps/overall_%d_comparison.png\", index)\n",
    "create_image_comparing_RGB_bitmaps(abstract1R, abstract1G, abstract1B, built_R, built_G, built_B, overall_filename, whitespace_between=40)\n",
    "load(overall_filename)"
   ]
  },
  {
   "cell_type": "markdown",
   "metadata": {},
   "source": [
    "### Dobranie najlepszych hiperparametrów:\n",
    "\n",
    "W kompresji macierzy istotne jest nie tylko dobre przybliżenie rzeczywistych danych, lecz również to by te przybliżające dane zajęły mniej miejsca niż oryginalna macierz. Z racji tego jak tworzona jest struktura drzewa kompresji przy niefortunnym doborze hiperparametrów ryzykujemy tych, że liczba danych \"skompresowanych\" będzie większa niż liczba danych z oryginalenj macierzy. W tej sekcji dokonano próby optymalizacji parametrów algroytmu kompresji.\n",
    "\n",
    "Ocenę modelu będziemy dokonywać poprzez wyliczenie funkcji jakości, która opiera się na:\n",
    "\n",
    "* średnim błędzie średniokwadratowym,\n",
    "* liczbie przechowywanych danych względem oryginalnej macierzy.\n",
    "\n",
    "To jak istotne powyższe będą w ocenie modeli dyktują kolejno $w_{msq}$, $w_{rs}$:"
   ]
  },
  {
   "cell_type": "code",
   "execution_count": null,
   "metadata": {},
   "outputs": [],
   "source": [
    "w_msq = 1.5\n",
    "w_rs = 2.5;"
   ]
  },
  {
   "cell_type": "markdown",
   "metadata": {},
   "source": [
    "Poniżej znajduje się kod do czytania liczby danych w drzewku kompresji:"
   ]
  },
  {
   "cell_type": "code",
   "execution_count": null,
   "metadata": {},
   "outputs": [],
   "source": [
    "function count_all_matrix_data_in_compr_tree(node::CompressionTreeModule.CompressionTreeNode)\n",
    "    matrix_data_size = 0\n",
    "    if !isnothing(node.U_matrix)\n",
    "        matrix_data_size += length(node.U_matrix)\n",
    "    end\n",
    "    if !isnothing(node.V_tr_matrix)\n",
    "        matrix_data_size += length(node.V_tr_matrix)\n",
    "    end \n",
    "    \n",
    "    if !isnothing(node.left_upper_child)\n",
    "        matrix_data_size += count_all_matrix_data_in_compr_tree(node.left_upper_child)\n",
    "    end\n",
    "    if !isnothing(node.right_upper_child)\n",
    "        matrix_data_size += count_all_matrix_data_in_compr_tree(node.right_upper_child)\n",
    "    end\n",
    "    if !isnothing(node.left_lower_child)\n",
    "        matrix_data_size += count_all_matrix_data_in_compr_tree(node.left_lower_child)\n",
    "    end\n",
    "    if !isnothing(node.right_lower_child)\n",
    "        matrix_data_size += count_all_matrix_data_in_compr_tree(node.right_lower_child)\n",
    "    end\n",
    "\n",
    "    return matrix_data_size\n",
    "end;"
   ]
  },
  {
   "cell_type": "code",
   "execution_count": null,
   "metadata": {},
   "outputs": [],
   "source": [
    "slight_increase = 1e-2\n",
    "num_of_egvalsR = size(eigenvaluesR,1) \n",
    "num_of_egvalsG = size(eigenvaluesG,1)\n",
    "num_of_egvalsB = size(eigenvaluesB,1)\n",
    "gamma_low = 1\n",
    "gamma_high = 4\n",
    "model_qualities = [0. for _ in gamma_low:1:gamma_high, _ in 1:1:num_of_egvalsR-1]\n",
    "\n",
    "image_size = length(abstract1R_255);"
   ]
  },
  {
   "cell_type": "code",
   "execution_count": null,
   "metadata": {},
   "outputs": [],
   "source": [
    "for gamma in gamma_low:1:gamma_high\n",
    "    for i in 1:1:num_of_egvalsR-1\n",
    "                \n",
    "        red_root = create_tree(abstract1R_255, gamma=gamma, eps=eigenvaluesR[i+1]+slight_increase)\n",
    "        green_root = create_tree(abstract1G_255, gamma=gamma, eps=eigenvaluesG[i+1]+slight_increase)\n",
    "        blue_root = create_tree(abstract1B_255, gamma=gamma, eps=eigenvaluesB[i+1]+slight_increase)\n",
    "\n",
    "        red_matrix = zeros(size(abstract1R_255,1), size(abstract1R_255,2))\n",
    "        green_matrix = zeros(size(abstract1G_255,1), size(abstract1G_255,2))\n",
    "        blue_matrix = zeros(size(abstract1B_255,1), size(abstract1B_255,2))\n",
    "\n",
    "        build_matrix_based_on_tree(red_matrix, red_root)\n",
    "        build_matrix_based_on_tree(green_matrix, green_root)\n",
    "        build_matrix_based_on_tree(blue_matrix, blue_root)\n",
    "\n",
    "        red_diffs = abs.(abstract1R_255-red_matrix)\n",
    "        green_diffs = abs.(abstract1G_255-green_matrix)\n",
    "        blue_diffs = abs.(abstract1B_255-blue_matrix)\n",
    "\n",
    "        found_maximum = findmax(red_diffs)[1]\n",
    "        found_maximum = max(found_maximum, findmax(green_diffs)[1])\n",
    "        found_maximum = max(found_maximum, findmax(blue_diffs)[1])\n",
    "\n",
    "        red_diffs ./= found_maximum\n",
    "        green_diffs ./= found_maximum\n",
    "        blue_diffs ./= found_maximum\n",
    "\n",
    "        avg_sq_diff = ((sum(red_diffs.^2)) + (sum(green_diffs.^2)) + (sum(blue_diffs.^2))) / (3*image_size)\n",
    "\n",
    "        matrix_size_red = count_all_matrix_data_in_compr_tree(red_root)\n",
    "        matrix_size_green = count_all_matrix_data_in_compr_tree(green_root)\n",
    "        matrix_size_blue = count_all_matrix_data_in_compr_tree(blue_root)\n",
    "\n",
    "        overall_relative_size = (matrix_size_red + matrix_size_green + matrix_size_blue) / (6*image_size)\n",
    "\n",
    "        calc_quality = (w_msq*avg_sq_diff + w_rs*overall_relative_size) / (w_msq + w_rs)\n",
    "\n",
    "        model_qualities[gamma,i] = calc_quality\n",
    "                \n",
    "    end\n",
    "end"
   ]
  }
 ],
 "metadata": {
  "kernelspec": {
   "display_name": "Julia 1.10.1",
   "language": "julia",
   "name": "julia-1.10"
  },
  "language_info": {
   "file_extension": ".jl",
   "mimetype": "application/julia",
   "name": "julia",
   "version": "1.10.1"
  }
 },
 "nbformat": 4,
 "nbformat_minor": 2
}
